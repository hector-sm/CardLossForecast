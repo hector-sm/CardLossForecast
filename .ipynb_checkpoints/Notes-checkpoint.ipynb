{
 "cells": [
  {
   "cell_type": "markdown",
   "metadata": {},
   "source": [
    "### Econometrics\n",
    "- Applied mathematics and statistical models with economic theories to understand, explain and measure causality in economic systems.\n",
    "- Example: Predicting spatial dependence between commercial and residential mortagage defaults using time series data.\n",
    "\n",
    "### Econometrics methods\n",
    "#### Descriptive statistics\n",
    "- Descriptive statistics measures central tendency, dispersion and distribution of data using statistical techniques.\n",
    "- Central tendency: Mean, median, mode.\n",
    "- Dispersion: Range, standard deviation, variance, Gini coefficient.\n",
    "- Distribution: Statistical distribution is a mathematical function used to describe/calculate the probability of occurance of an observation in the sample and how frequently it occurs.\n",
    "#### Hypotehsis testing\n",
    "- Examination of a claim against accepted facts (called \"null hypothesis\"). Uses sample data to verify the claim about the whole population.\n",
    "- Test to verify the validity of a claim:\n",
    "    - t-test\n",
    "    - ANOVA\n",
    "    - Chi-squared\n",
    "- Additional concepts in hypothesis testing:\n",
    "    - p-value: In statistical terms, p=0.01 means there is a 1% probability that the result is due to chance.\n",
    "    - confidence intervals (CI): a measure of the degree of uncertainity.\n",
    "#### Regression\n",
    "- Linear models\n",
    "- Panel data models\n",
    "- Count data models\n",
    "- Binary outcome models\n",
    "- Generalized linear models\n",
    "#### Forecasting\n",
    "- Benchmark forecasting: They help build forecasting intuition upon which to add additional layers of complexity. Some techniques in benchmark forecasting are: Naive, Seasonal, Mean, Seasonal naive, Drift, Linear trend, Random walk and Geometric random walk"
   ]
  },
  {
   "cell_type": "code",
   "execution_count": null,
   "metadata": {},
   "outputs": [],
   "source": []
  }
 ],
 "metadata": {
  "kernelspec": {
   "display_name": "Python 3",
   "language": "python",
   "name": "python3"
  },
  "language_info": {
   "codemirror_mode": {
    "name": "ipython",
    "version": 3
   },
   "file_extension": ".py",
   "mimetype": "text/x-python",
   "name": "python",
   "nbconvert_exporter": "python",
   "pygments_lexer": "ipython3",
   "version": "3.8.3"
  }
 },
 "nbformat": 4,
 "nbformat_minor": 4
}
